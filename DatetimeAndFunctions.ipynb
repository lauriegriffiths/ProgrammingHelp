{
 "cells": [
  {
   "cell_type": "code",
   "execution_count": 12,
   "metadata": {},
   "outputs": [
    {
     "name": "stdout",
     "output_type": "stream",
     "text": [
      "11539 days, 0:00:00\n"
     ]
    }
   ],
   "source": [
    "import datetime\n",
    "\n",
    "today = datetime.date.today()\n",
    "\n",
    "birthday = datetime.date(1990,6,14)\n",
    "\n",
    "difference = today - birthday\n",
    "\n",
    "print(difference)\n",
    "\n"
   ]
  },
  {
   "cell_type": "markdown",
   "metadata": {},
   "source": [
    "## Function definition\n",
    "Functions are useful little chunks of code that you can reuse.  Functions can have any number of arguments (parameters)"
   ]
  },
  {
   "cell_type": "code",
   "execution_count": 13,
   "metadata": {},
   "outputs": [],
   "source": [
    "def calculateAge(birthday):\n",
    "    today = datetime.date.today()\n",
    "    difference = today - birthday\n",
    "    age = difference.days // 365\n",
    "    return age\n"
   ]
  },
  {
   "cell_type": "markdown",
   "metadata": {},
   "source": [
    "## Function use\n",
    "You can use the function again and again. The variable names in the function won't clash with variable names outside the function."
   ]
  },
  {
   "cell_type": "code",
   "execution_count": 14,
   "metadata": {},
   "outputs": [
    {
     "name": "stdout",
     "output_type": "stream",
     "text": [
      "31\n",
      "41\n"
     ]
    }
   ],
   "source": [
    "my_birthday = datetime.date(1990,6,14)\n",
    "my_age = calculateAge(my_birthday)\n",
    "print(my_age)\n",
    "\n",
    "another_birthday = datetime.date(1980,6,14)\n",
    "another_age = calculateAge(another_birthday)\n",
    "print(another_age)\n"
   ]
  },
  {
   "cell_type": "markdown",
   "metadata": {},
   "source": [
    "## List Comprehensions\n",
    "\n",
    "List comprehensions are an alternative to loops. They are useful for simple data processing on lists. \n",
    "\n",
    "You can always do the same thing with a loop, but often a list comprehension is neater."
   ]
  },
  {
   "cell_type": "code",
   "execution_count": 28,
   "metadata": {},
   "outputs": [
    {
     "name": "stdout",
     "output_type": "stream",
     "text": [
      "[2, 4, 6, 8, 10, 12, 14, 16, 18, 20]\n"
     ]
    }
   ],
   "source": [
    "x = [1,2,3,4,5,6,7,8,9,10]\n",
    "\n",
    "#Double every number if it is even\n",
    "doubles = [a*2 for a in x if a%2 == 0]\n",
    "\n",
    "print(doubles)"
   ]
  },
  {
   "cell_type": "code",
   "execution_count": 20,
   "metadata": {},
   "outputs": [
    {
     "name": "stdout",
     "output_type": "stream",
     "text": [
      "[31, 41, 36]\n"
     ]
    }
   ],
   "source": [
    "johns_birthday = datetime.date(1985,6,14)\n",
    "\n",
    "birthdays = [my_birthday,another_birthday,johns_birthday]\n",
    "# apply \"calculateAge\" to every birthday in the list birthdays\n",
    "ages = [calculateAge(x) for x in birthdays]\n",
    "\n",
    "print(ages)"
   ]
  },
  {
   "cell_type": "markdown",
   "metadata": {},
   "source": [
    "## Map\n",
    "\n",
    "map is used to apply a function to every item in a list.  Many programming languages have this feature."
   ]
  },
  {
   "cell_type": "code",
   "execution_count": 24,
   "metadata": {},
   "outputs": [
    {
     "name": "stdout",
     "output_type": "stream",
     "text": [
      "[31, 41, 36]\n"
     ]
    }
   ],
   "source": [
    "birthdays = [my_birthday,another_birthday,johns_birthday]\n",
    "\n",
    "ages = map(calculateAge, birthdays)\n",
    "\n",
    "print(list(ages))"
   ]
  }
 ],
 "metadata": {
  "interpreter": {
   "hash": "31f2aee4e71d21fbe5cf8b01ff0e069b9275f58929596ceb00d14d90e3e16cd6"
  },
  "kernelspec": {
   "display_name": "Python 3.8.2 64-bit",
   "language": "python",
   "name": "python3"
  },
  "language_info": {
   "codemirror_mode": {
    "name": "ipython",
    "version": 3
   },
   "file_extension": ".py",
   "mimetype": "text/x-python",
   "name": "python",
   "nbconvert_exporter": "python",
   "pygments_lexer": "ipython3",
   "version": "3.8.2"
  },
  "orig_nbformat": 4
 },
 "nbformat": 4,
 "nbformat_minor": 2
}
